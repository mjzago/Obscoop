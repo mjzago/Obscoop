{
 "cells": [
  {
   "cell_type": "code",
   "execution_count": 32,
   "metadata": {},
   "outputs": [
    {
     "name": "stdout",
     "output_type": "stream",
     "text": [
      "Arquivo BibTeX gerado com sucesso: output.bib\n"
     ]
    }
   ],
   "source": [
    "import pandas as pd\n",
    "\n",
    "# Ler o arquivo CSV\n",
    "csv_file = r'C:\\Users\\mjzag\\Documents\\OBSCOOP\\20231030_artigos_scopuswos_unicos.xlsx - 20231030_artigos_scopuswos_unicos.xlsx.csv'\n",
    "df = pd.read_csv(csv_file)\n",
    "\n",
    "# Nome do arquivo de saída BibTeX\n",
    "bibtex_file = 'output.bib'\n",
    "\n",
    "# Função para criar uma entrada BibTeX para cada linha no DataFrame\n",
    "def create_bibtex_entry(row):\n",
    "    authors = row['authors']\n",
    "    if isinstance(authors, str):\n",
    "        authors = authors.split('; ')\n",
    "        author_list = ' and '.join(authors)\n",
    "    else:\n",
    "        author_list = 'Unknown'\n",
    "    title = row['title']\n",
    "    source_title = row['source_title']\n",
    "    issn = row['issn']\n",
    "    doi = row['doi']\n",
    "    year = row['year']\n",
    "\n",
    "    bibtex_entry = f\"@article{{\\n\\\n",
    "    author = {{{author_list}}},\\n\\\n",
    "    title = {{{title}}},\\n\\\n",
    "    journal = {{{source_title}}},\\n\\\n",
    "    issn = {{{issn}}},\\n\\\n",
    "    doi = {{{doi}}},\\n\\\n",
    "    year = {{{year}}}\\n\\\n",
    "}}\\n\"\n",
    "    \n",
    "    return bibtex_entry\n",
    "\n",
    "# Aplicar a função de criação de entradas BibTeX a cada linha\n",
    "df['bibtex_entry'] = df.apply(create_bibtex_entry, axis=1)\n",
    "\n",
    "# Salvar as entradas BibTeX em um arquivo\n",
    "with open(bibtex_file, 'w', encoding='utf-8') as f:\n",
    "    for entry in df['bibtex_entry']:\n",
    "        f.write(entry)\n",
    "        f.write('\\n')\n",
    "\n",
    "print(f'Arquivo BibTeX gerado com sucesso: {bibtex_file}')\n"
   ]
  }
 ],
 "metadata": {
  "kernelspec": {
   "display_name": "Python 3",
   "language": "python",
   "name": "python3"
  },
  "language_info": {
   "codemirror_mode": {
    "name": "ipython",
    "version": 3
   },
   "file_extension": ".py",
   "mimetype": "text/x-python",
   "name": "python",
   "nbconvert_exporter": "python",
   "pygments_lexer": "ipython3",
   "version": "3.11.3"
  },
  "orig_nbformat": 4
 },
 "nbformat": 4,
 "nbformat_minor": 2
}
