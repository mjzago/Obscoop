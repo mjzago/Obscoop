{
 "cells": [
  {
   "cell_type": "code",
   "execution_count": null,
   "metadata": {},
   "outputs": [],
   "source": [
    "pip install titlecase"
   ]
  },
  {
   "cell_type": "code",
   "execution_count": 25,
   "metadata": {},
   "outputs": [],
   "source": [
    "import pandas as pd\n",
    "import titlecase\n",
    "from unidecode import unidecode\n",
    "\n",
    "# Ler o arquivo CSV\n",
    "df = pd.read_csv('artigos_scopuswos_hindexadicionado.csv')\n",
    "\n",
    "# Definir uma função para remover os parênteses dos nomes\n",
    "def remove_parentheses(full_names):\n",
    "    if pd.notna(full_names):\n",
    "        names = full_names.split('; ')\n",
    "        cleaned_names = [name.split(' (')[0] for name in names]\n",
    "        return '; '.join(cleaned_names)\n",
    "    else:\n",
    "        return full_names\n",
    "\n",
    "# Aplicar a função à coluna 'author_full_names' e corrigir nomes desconfigurados\n",
    "df['author_full_names'] = df['author_full_names'].apply(remove_parentheses)\n",
    "df['author_full_names'] = df['author_full_names'].apply(lambda x: unidecode(x) if pd.notna(x) else x)\n",
    "\n",
    "# Definir uma função para capitalizar apenas a primeira letra da primeira palavra do título usando titlecase\n",
    "def capitalize_first_word(title):\n",
    "    if pd.notna(title):\n",
    "        return titlecase.titlecase(title)\n",
    "    else:\n",
    "        return title\n",
    "\n",
    "# Aplicar a função à coluna 'title'\n",
    "df['title'] = df['title'].apply(capitalize_first_word)\n",
    "\n",
    "# Salvar o DataFrame de volta no arquivo CSV\n",
    "df.to_csv('artigos_scopuswos_hindexadicionado2.csv', index=False)\n"
   ]
  },
  {
   "cell_type": "code",
   "execution_count": 26,
   "metadata": {},
   "outputs": [
    {
     "name": "stdout",
     "output_type": "stream",
     "text": [
      "Arquivo BibTeX gerado com sucesso: output.bib\n"
     ]
    }
   ],
   "source": [
    "import pandas as pd\n",
    "\n",
    "# Ler o arquivo CSV\n",
    "csv_file = 'artigos_scopuswos_hindexadicionado2.csv'\n",
    "df = pd.read_csv(csv_file)\n",
    "\n",
    "# Nome do arquivo de saída BibTeX\n",
    "bibtex_file = 'output.bib'\n",
    "\n",
    "# Função para criar uma entrada BibTeX para cada linha no DataFrame\n",
    "def create_bibtex_entry(row):\n",
    "    author_full_names = row['author_full_names']\n",
    "    title = row['title']\n",
    "    publisher = row['publisher']\n",
    "    year = row['year']\n",
    "    journal = row['journal_title']\n",
    "    volume = row['volume']\n",
    "    issue = row['issue']\n",
    "    page_start = row['page_start']\n",
    "    page_end = row['page_end']\n",
    "    url = row['link']\n",
    "    abstract = row['abstract']\n",
    "    doi = row['doi']\n",
    "\n",
    "    # Verificar valores nulos e substituí-los por strings vazias\n",
    "    author_full_names = author_full_names if not pd.isna(author_full_names) else \"\"\n",
    "    title = title if not pd.isna(title) else \"\"\n",
    "    publisher = publisher if not pd.isna(publisher) else \"\"\n",
    "    year = int(year) if not pd.isna(year) else \"\"\n",
    "    journal = journal if not pd.isna(journal) else \"\"\n",
    "    volume = str(volume) if not pd.isna(volume) else \"\"\n",
    "    issue = str(issue) if not pd.isna(issue) else \"\"\n",
    "    page_start = str(page_start) if not pd.isna(page_start) else \"\"\n",
    "    page_end = str(page_end) if not pd.isna(page_end) else \"\"\n",
    "    url = url if not pd.isna(url) else \"\"\n",
    "    abstract = abstract if not pd.isna(abstract) else \"\"\n",
    "    doi = doi if not pd.isna(doi) else \"\"\n",
    "\n",
    "    bibtex_entry = f\"@article{{\\n\\\n",
    "    author = {{{author_full_names}}},\\n\\\n",
    "    title = {{{title}}},\\n\\\n",
    "    publisher = {{{publisher}}},\\n\\\n",
    "    year = {{{year}}},\\n\\\n",
    "    journal = {{{journal}}},\\n\\\n",
    "    volume = {{{volume}}},\\n\\\n",
    "    number = {{{issue}}},\\n\\\n",
    "    pages = {{{page_start}--{page_end}}},\\n\\\n",
    "    url = {{{url}}},\\n\\\n",
    "    abstract = {{{abstract}}},\\n\\\n",
    "    doi = {{{doi}}}\\n\\\n",
    "}}\\n\"\n",
    "\n",
    "    return bibtex_entry\n",
    "\n",
    "# Aplicar a função de criação de entradas BibTeX a cada linha\n",
    "df['bibtex_entry'] = df.apply(create_bibtex_entry, axis=1)\n",
    "\n",
    "# Filtrar entradas vazias\n",
    "df = df[df['bibtex_entry'] != \"\"]\n",
    "\n",
    "# Salvar as entradas BibTeX em um arquivo\n",
    "with open(bibtex_file, 'w', encoding='utf-8') as f:\n",
    "    for entry in df['bibtex_entry']:\n",
    "        f.write(entry)\n",
    "        f.write('\\n')\n",
    "\n",
    "print(f'Arquivo BibTeX gerado com sucesso: {bibtex_file}')\n"
   ]
  }
 ],
 "metadata": {
  "kernelspec": {
   "display_name": "Python 3",
   "language": "python",
   "name": "python3"
  },
  "language_info": {
   "codemirror_mode": {
    "name": "ipython",
    "version": 3
   },
   "file_extension": ".py",
   "mimetype": "text/x-python",
   "name": "python",
   "nbconvert_exporter": "python",
   "pygments_lexer": "ipython3",
   "version": "3.11.3"
  },
  "orig_nbformat": 4
 },
 "nbformat": 4,
 "nbformat_minor": 2
}
