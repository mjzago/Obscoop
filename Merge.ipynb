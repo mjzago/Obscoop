{
 "cells": [
  {
   "cell_type": "code",
   "execution_count": null,
   "metadata": {},
   "outputs": [],
   "source": [
    "pip install unidecode"
   ]
  },
  {
   "cell_type": "code",
   "execution_count": 33,
   "metadata": {},
   "outputs": [],
   "source": [
    "import pandas as pd\n",
    "from unidecode import unidecode\n",
    "\n",
    "# Função para remover acentos e caracteres especiais e transformar em letras minúsculas\n",
    "def preprocess_title(title):\n",
    "    title = unidecode(title)  # Remove acentos\n",
    "    title = title.lower()  # Converte para letras minúsculas\n",
    "    return title\n",
    "\n",
    "# Leia os arquivos CSV em dataframes\n",
    "web_of_science_df = pd.read_csv('Revisão sistemática/WOSartigos.csv', encoding='ISO-8859-1')\n",
    "scopus_df = pd.read_csv('Revisão sistemática/scopus.csv', encoding='utf-8-sig')\n",
    "\n",
    "# Renomeie as colunas do dataframe Scopus\n",
    "scopus_df = scopus_df.rename(columns={'ï»¿\"Authors\"': 'Authors',\n",
    "    'Author(s) ID': 'Author ID',\n",
    "    'Title': 'Article Title',\n",
    "    'Year': 'Publication Year',\n",
    "    'Source title': 'Source Title',\n",
    "    'Volume': 'Volume',\n",
    "    'Issue': 'Issue',\n",
    "    'Art. No.': 'Article Number',\n",
    "    'Page start': 'Start Page',\n",
    "    'Page end': 'End Page',\n",
    "    'Cited by': 'Cited by',\n",
    "    'DOI': 'DOI',\n",
    "    'Abstract': 'Abstract',\n",
    "    'Author Keywords': 'Author Keywords',\n",
    "    'Index Keywords': 'Index Keywords',\n",
    "    'References': 'References',\n",
    "    'Affiliations': 'Affiliations'})\n",
    "\n",
    "# Pré-processamento de colunas para a junção (merge)\n",
    "web_of_science_df['Article Title'] = web_of_science_df['Article Title'].apply(preprocess_title)\n",
    "scopus_df['Article Title'] = scopus_df['Article Title'].apply(preprocess_title)\n",
    "\n",
    "# Remova duplicatas com base no título do artigo\n",
    "# web_of_science_df.drop_duplicates(subset='Article Title', inplace=True)\n",
    "# scopus_df.drop_duplicates(subset='Article Title', inplace=True)\n",
    "web_of_science_df = web_of_science_df.drop_duplicates(subset='Article Title', keep='first')\n",
    "scopus_df = scopus_df.drop_duplicates(subset='Article Title', keep='first')\n",
    "\n",
    "# Remova duplicatas com base no DOI\n",
    "web_of_science_df = web_of_science_df[~web_of_science_df['DOI'].duplicated(keep='first') | web_of_science_df['DOI'].isna()]\n",
    "scopus_df = scopus_df[~scopus_df['DOI'].duplicated(keep='first') | scopus_df['DOI'].isna()]\n",
    "\n",
    "\n",
    "# Junte os dataframes\n",
    "resultado = pd.concat([web_of_science_df, scopus_df], ignore_index=True)\n",
    "\n",
    "# Salve o resultado em um novo arquivo CSV\n",
    "resultado.to_csv('Merge dos banco de dados excluindo duplicatas DOI e Títulos4.csv', index=False, encoding='utf-8-sig')\n"
   ]
  },
  {
   "cell_type": "code",
   "execution_count": 28,
   "metadata": {},
   "outputs": [
    {
     "name": "stdout",
     "output_type": "stream",
     "text": [
      "O número de artigos em ambas as Bases (excluindo DOI duplicatos e títulos iguais) é: 2741\n",
      "O número de células em branco na coluna 'DOI' é: 495\n"
     ]
    }
   ],
   "source": [
    "\n",
    "\n",
    "# Carregar o arquivo CSV\n",
    "file_path = \"Merge dos banco de dados excluindo duplicatas DOI e Títulos.csv\"\n",
    "df = pd.read_csv(file_path)\n",
    "\n",
    "num_items = len(df[\"Article Title\"])\n",
    "\n",
    "print(f\"O número de artigos em ambas as Bases (excluindo DOI duplicatos e títulos iguais) é: {num_items}\")\n",
    "\n",
    "# Contar células em branco na coluna \"DOI\"\n",
    "num_celulas_em_branco = df['DOI'].isna().sum()\n",
    "\n",
    "print(f\"O número de células em branco na coluna 'DOI' é: {num_celulas_em_branco}\")\n",
    "\n",
    "\n"
   ]
  }
 ],
 "metadata": {
  "kernelspec": {
   "display_name": "Python 3",
   "language": "python",
   "name": "python3"
  },
  "language_info": {
   "codemirror_mode": {
    "name": "ipython",
    "version": 3
   },
   "file_extension": ".py",
   "mimetype": "text/x-python",
   "name": "python",
   "nbconvert_exporter": "python",
   "pygments_lexer": "ipython3",
   "version": "3.11.3"
  },
  "orig_nbformat": 4
 },
 "nbformat": 4,
 "nbformat_minor": 2
}
