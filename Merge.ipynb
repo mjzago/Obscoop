{
 "cells": [
  {
   "cell_type": "code",
   "execution_count": null,
   "metadata": {},
   "outputs": [],
   "source": [
    "pip install unidecode"
   ]
  },
  {
   "cell_type": "code",
   "execution_count": 12,
   "metadata": {},
   "outputs": [
    {
     "name": "stderr",
     "output_type": "stream",
     "text": [
      "C:\\Users\\mjzag\\AppData\\Local\\Temp\\ipykernel_15532\\2368832381.py:40: SettingWithCopyWarning: \n",
      "A value is trying to be set on a copy of a slice from a DataFrame.\n",
      "Try using .loc[row_indexer,col_indexer] = value instead\n",
      "\n",
      "See the caveats in the documentation: https://pandas.pydata.org/pandas-docs/stable/user_guide/indexing.html#returning-a-view-versus-a-copy\n",
      "  resultado_sem_duplicatas['Article Title'] = resultado_sem_duplicatas['Article Title'].apply(preprocess_title)\n"
     ]
    }
   ],
   "source": [
    "\n",
    "import pandas as pd\n",
    "from unidecode import unidecode\n",
    "\n",
    "# Função para remover acentos e caracteres especiais e transformar em letras minúsculas\n",
    "def preprocess_title(title):\n",
    "    title = unidecode(title)  # Remove acentos\n",
    "    title = title.lower()  # Converte para letras minúsculas\n",
    "    return title\n",
    "\n",
    "# Leia os arquivos CSV em dataframes\n",
    "web_of_science_df = pd.read_csv('Revisão sistemática/WOSartigos.csv', encoding='ISO-8859-1')\n",
    "scopus_df = pd.read_csv('Revisão sistemática/scopus.csv', encoding='utf-8-sig')\n",
    "\n",
    "# Renomeie as colunas do dataframe Scopus\n",
    "scopus_df = scopus_df.rename(columns={'ï»¿\"Authors\"': 'Authors',\n",
    "    'Author(s) ID': 'Author ID',\n",
    "    'Title': 'Article Title',\n",
    "    'Year': 'Publication Year',\n",
    "    'Source title': 'Source Title',\n",
    "    'Volume': 'Volume',\n",
    "    'Issue': 'Issue',\n",
    "    'Art. No.': 'Article Number',\n",
    "    'Page start': 'Start Page',\n",
    "    'Page end': 'End Page',\n",
    "    'Cited by': 'Cited by',\n",
    "    'DOI': 'DOI',\n",
    "    'Abstract': 'Abstract',\n",
    "    'Author Keywords': 'Author Keywords',\n",
    "    'Index Keywords': 'Index Keywords',\n",
    "    'References': 'References',\n",
    "    'Affiliations': 'Affiliations'})\n",
    "\n",
    "# Junte os dataframes\n",
    "resultado = pd.concat([web_of_science_df, scopus_df], ignore_index=True)\n",
    "\n",
    "# Remova linhas duplicadas com base na coluna 'DOI'\n",
    "resultado_sem_duplicatas = resultado.drop_duplicates(subset=['DOI'])\n",
    "\n",
    "# Aplicar a função preprocess_title à coluna \"Article Title\" em 'resultado_sem_duplicatas'\n",
    "resultado_sem_duplicatas['Article Title'] = resultado_sem_duplicatas['Article Title'].apply(preprocess_title)\n",
    "\n",
    "# Remova linhas duplicadas com base no título do artigo após a aplicação da função\n",
    "resultado_sem_duplicatas = resultado_sem_duplicatas.drop_duplicates(subset=['Article Title'])\n",
    "\n",
    "# Salve o resultado sem duplicatas em um novo arquivo CSV\n",
    "resultado_sem_duplicatas.to_csv('resultado do merge entre Scopus e WOS sem duplicatas normalized.csv', index=False)\n"
   ]
  }
 ],
 "metadata": {
  "kernelspec": {
   "display_name": "Python 3",
   "language": "python",
   "name": "python3"
  },
  "language_info": {
   "codemirror_mode": {
    "name": "ipython",
    "version": 3
   },
   "file_extension": ".py",
   "mimetype": "text/x-python",
   "name": "python",
   "nbconvert_exporter": "python",
   "pygments_lexer": "ipython3",
   "version": "3.11.3"
  },
  "orig_nbformat": 4
 },
 "nbformat": 4,
 "nbformat_minor": 2
}
