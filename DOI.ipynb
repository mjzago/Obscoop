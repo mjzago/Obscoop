{
 "cells": [
  {
   "cell_type": "code",
   "execution_count": 9,
   "metadata": {},
   "outputs": [
    {
     "name": "stdout",
     "output_type": "stream",
     "text": [
      "Total de 'DOI' na busca da Flávia: 988\n"
     ]
    }
   ],
   "source": [
    "##### SELECIONANDO OS ARTIGOS PELO DOI\n",
    "\n",
    "arquivo_flavia = 'Revisão sistemática/WOSartigos.csv'\n",
    "\n",
    "try:\n",
    "    # Use o método read_csv do pandas para ler o arquivo CSV com a codificação ISO-8859-1\n",
    "    df = pd.read_csv(arquivo_flavia, encoding='ISO-8859-1')\n",
    "\n",
    "    # Conte quantos valores não nulos existem na coluna \"Article Title\"\n",
    "    total_article_porDOI= df['DOI'].count()\n",
    "\n",
    "    print(f\"Total de 'DOI' na busca da Flávia: {total_article_porDOI}\")\n",
    "\n",
    "except FileNotFoundError:\n",
    "    print(\"Arquivo não encontrado. Verifique o caminho e o nome do arquivo CSV.\")"
   ]
  },
  {
   "cell_type": "code",
   "execution_count": 10,
   "metadata": {},
   "outputs": [
    {
     "name": "stdout",
     "output_type": "stream",
     "text": [
      "Total de 'DOI' no arquivo scopus.csv da Elisangela: 1264\n"
     ]
    }
   ],
   "source": [
    "import pandas as pd\n",
    "\n",
    "# Especifique o caminho completo do arquivo CSV (scopus.csv)\n",
    "arquivo_elisangela = 'Revisão sistemática/scopus.csv'\n",
    "\n",
    "try:\n",
    "    # Use o método read_csv do pandas para ler o arquivo CSV com a codificação ISO-8859-1\n",
    "    df = pd.read_csv(arquivo_elisangela, encoding='ISO-8859-1')\n",
    "\n",
    "    # Conte quantos valores não nulos existem na coluna \"Title\"\n",
    "    total_DOI = df['DOI'].count()\n",
    "\n",
    "    print(f\"Total de 'DOI' no arquivo scopus.csv da Elisangela: {total_DOI}\")\n",
    "\n",
    "except FileNotFoundError:\n",
    "    print(\"Arquivo não encontrado. Verifique o caminho e o nome do arquivo CSV.\")\n"
   ]
  },
  {
   "cell_type": "code",
   "execution_count": 11,
   "metadata": {},
   "outputs": [
    {
     "name": "stdout",
     "output_type": "stream",
     "text": [
      "Quantidade de duplicatas de DOI na Flávia: 0\n",
      "Quantidade de duplicatas de DOI na Elisângela: 0\n",
      "Quantidade de DOI sem repetição na Flávia: 988\n",
      "Quantidade de DOI sem repetição na Elisângela: 1264\n"
     ]
    }
   ],
   "source": [
    "import pandas as pd\n",
    "\n",
    "# Caminhos dos arquivos da Flávia e Elisângela\n",
    "arquivo_flavia = 'Revisão sistemática/WOSartigos.csv'\n",
    "arquivo_elisangela = 'Revisão sistemática/scopus.csv'\n",
    "\n",
    "try:\n",
    "    # Ler o arquivo da Flávia\n",
    "    df_flavia = pd.read_csv(arquivo_flavia, encoding='ISO-8859-1')\n",
    "\n",
    "    # Ler o arquivo da Elisângela\n",
    "    df_elisangela = pd.read_csv(arquivo_elisangela, encoding='ISO-8859-1')\n",
    "\n",
    "    # Quantidade de duplicatas de DOI na Flávia\n",
    "    duplicatas_flavia = df_flavia[df_flavia.duplicated(subset='DOI')]['DOI'].count()\n",
    "\n",
    "    # Quantidade de duplicatas de DOI na Elisângela\n",
    "    duplicatas_elisangela = df_elisangela[df_elisangela.duplicated(subset='DOI')]['DOI'].count()\n",
    "\n",
    "    # Quantidade de DOI sem repetição na Flávia\n",
    "    dois_unicos_flavia = df_flavia['DOI'].nunique()\n",
    "\n",
    "    # Quantidade de DOI sem repetição na Elisângela\n",
    "    dois_unicos_elisangela = df_elisangela['DOI'].nunique()\n",
    "\n",
    "    print(f\"Quantidade de duplicatas de DOI na Flávia: {duplicatas_flavia}\")\n",
    "    print(f\"Quantidade de duplicatas de DOI na Elisângela: {duplicatas_elisangela}\")\n",
    "    print(f\"Quantidade de DOI sem repetição na Flávia: {dois_unicos_flavia}\")\n",
    "    print(f\"Quantidade de DOI sem repetição na Elisângela: {dois_unicos_elisangela}\")\n",
    "\n",
    "except FileNotFoundError:\n",
    "    print(\"Arquivo não encontrado. Verifique o caminho e o nome do arquivo CSV.\")\n"
   ]
  },
  {
   "cell_type": "code",
   "execution_count": 12,
   "metadata": {},
   "outputs": [
    {
     "name": "stdout",
     "output_type": "stream",
     "text": [
      "Comparação entre as bases da Flávia e da Elisângela usando o DOI:\n",
      "Quantidade de entradas comuns: 595\n",
      "Quantidade de DOI exclusivos da Flávia: 394\n",
      "Quantidade DOI exclusivos da Elisângela: 670\n",
      "Total de DOI exclusivos total: 1064\n"
     ]
    }
   ],
   "source": [
    "import pandas as pd\n",
    "\n",
    "# Caminhos dos arquivos da Flávia e Elisângela\n",
    "arquivo_flavia = 'Revisão sistemática/WOSartigos.csv'\n",
    "arquivo_elisangela = 'Revisão sistemática/scopus.csv'\n",
    "\n",
    "try:\n",
    "    # Ler o arquivo da Flávia\n",
    "    df_flavia = pd.read_csv(arquivo_flavia, encoding='ISO-8859-1')\n",
    "\n",
    "    # Ler o arquivo da Elisângela\n",
    "    df_elisangela = pd.read_csv(arquivo_elisangela, encoding='ISO-8859-1')\n",
    "\n",
    "    # Calcular a quantidade de entradas comuns (DOI presente em ambas as bases)\n",
    "    doi_comuns = len(set(df_flavia['DOI']) & set(df_elisangela['DOI']))\n",
    "\n",
    "    # Calcular a quantidade de DOI exclusivos da Flávia\n",
    "    doi_exclusivos_flavia = len(set(df_flavia['DOI']) - set(df_elisangela['DOI']))\n",
    "\n",
    "    # Calcular a quantidade de DOI exclusivos da Elisângela\n",
    "    doi_exclusivos_elisangela = len(set(df_elisangela['DOI']) - set(df_flavia['DOI']))\n",
    "\n",
    "    # Calcular o total de DOI exclusivos (somando os DOI exclusivos de ambas as bases)\n",
    "    total_doi_exclusivos = doi_exclusivos_flavia + doi_exclusivos_elisangela\n",
    "\n",
    "    print(\"Comparação entre as bases da Flávia e da Elisângela usando o DOI:\")\n",
    "    print(f\"Quantidade de entradas comuns: {doi_comuns}\")\n",
    "    print(f\"Quantidade de DOI exclusivos da Flávia: {doi_exclusivos_flavia}\")\n",
    "    print(f\"Quantidade DOI exclusivos da Elisângela: {doi_exclusivos_elisangela}\")\n",
    "    print(f\"Total de DOI exclusivos total: {total_doi_exclusivos}\")\n",
    "\n",
    "except FileNotFoundError:\n",
    "    print(\"Arquivo não encontrado. Verifique o caminho e o nome do arquivo CSV.\")\n"
   ]
  },
  {
   "cell_type": "code",
   "execution_count": 13,
   "metadata": {},
   "outputs": [
    {
     "name": "stdout",
     "output_type": "stream",
     "text": [
      "Quantidade de Artigos sem DOI nas duas bases:\n",
      "Quantidade de Artigos sem DOI na base da Flávia: 240\n",
      "Quantidade de Artigos sem DOI na base da Elisângela: 256\n"
     ]
    }
   ],
   "source": [
    "import pandas as pd\n",
    "\n",
    "# Caminhos dos arquivos da Flávia e Elisângela\n",
    "arquivo_flavia = 'Revisão sistemática/WOSartigos.csv'\n",
    "arquivo_elisangela = 'Revisão sistemática/scopus.csv'\n",
    "\n",
    "try:\n",
    "    # Ler o arquivo da Flávia\n",
    "    df_flavia = pd.read_csv(arquivo_flavia, encoding='ISO-8859-1')\n",
    "\n",
    "    # Ler o arquivo da Elisângela\n",
    "    df_elisangela = pd.read_csv(arquivo_elisangela, encoding='ISO-8859-1')\n",
    "\n",
    "    # Calcular a quantidade de artigos sem DOI na base da Flávia\n",
    "    artigos_sem_doi_flavia = df_flavia['DOI'].isna().sum()\n",
    "\n",
    "    # Calcular a quantidade de artigos sem DOI na base da Elisângela\n",
    "    artigos_sem_doi_elisangela = df_elisangela['DOI'].isna().sum()\n",
    "\n",
    "    print(\"Quantidade de Artigos sem DOI nas duas bases:\")\n",
    "    print(f\"Quantidade de Artigos sem DOI na base da Flávia: {artigos_sem_doi_flavia}\")\n",
    "    print(f\"Quantidade de Artigos sem DOI na base da Elisângela: {artigos_sem_doi_elisangela}\")\n",
    "\n",
    "except FileNotFoundError:\n",
    "    print(\"Arquivo não encontrado. Verifique o caminho e o nome do arquivo CSV.\")\n"
   ]
  }
 ],
 "metadata": {
  "kernelspec": {
   "display_name": "Python 3",
   "language": "python",
   "name": "python3"
  },
  "language_info": {
   "codemirror_mode": {
    "name": "ipython",
    "version": 3
   },
   "file_extension": ".py",
   "mimetype": "text/x-python",
   "name": "python",
   "nbconvert_exporter": "python",
   "pygments_lexer": "ipython3",
   "version": "3.11.3"
  },
  "orig_nbformat": 4
 },
 "nbformat": 4,
 "nbformat_minor": 2
}
