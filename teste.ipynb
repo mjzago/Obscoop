{
 "cells": [
  {
   "cell_type": "code",
   "execution_count": 1,
   "metadata": {},
   "outputs": [],
   "source": [
    "import pandas as pd\n",
    "from unidecode import unidecode\n",
    "\n",
    "# Função para remover acentos e caracteres especiais e transformar em letras minúsculas\n",
    "def preprocess_title(title):\n",
    "    title = unidecode(title)  # Remove acentos\n",
    "    title = title.lower()  # Converte para letras minúsculas\n",
    "    return title\n",
    "\n",
    "# Leia os arquivos CSV em dataframes\n",
    "web_of_science_df = pd.read_csv('Revisão sistemática/WOSartigos.csv', encoding='ISO-8859-1')\n",
    "scopus_df = pd.read_csv('Revisão sistemática/scopus.csv', encoding='utf-8-sig')\n",
    "\n",
    "# Renomeie as colunas do dataframe Scopus\n",
    "scopus_df = scopus_df.rename(columns={'ï»¿\"Authors\"': 'Authors',\n",
    "    'Author(s) ID': 'Author ID',\n",
    "    'Title': 'Article Title',\n",
    "    'Year': 'Publication Year',\n",
    "    'Source title': 'Source Title',\n",
    "    'Volume': 'Volume',\n",
    "    'Issue': 'Issue',\n",
    "    'Art. No.': 'Article Number',\n",
    "    'Page start': 'Start Page',\n",
    "    'Page end': 'End Page',\n",
    "    'Cited by': 'Cited by',\n",
    "    'DOI': 'DOI',\n",
    "    'Abstract': 'Abstract',\n",
    "    'Author Keywords': 'Author Keywords',\n",
    "    'Index Keywords': 'Index Keywords',\n",
    "    'References': 'References',\n",
    "    'Affiliations': 'Affiliations'})\n",
    "\n",
    "# Pré-processamento de colunas para a junção (merge)\n",
    "web_of_science_df['Article Title'] = web_of_science_df['Article Title'].apply(preprocess_title)\n",
    "scopus_df['Article Title'] = scopus_df['Article Title'].apply(preprocess_title)\n",
    "\n",
    "# Crie conjuntos de títulos únicos para cada base de dados\n",
    "web_of_science_titles = set(web_of_science_df['Article Title'])\n",
    "scopus_titles = set(scopus_df['Article Title'])\n",
    "\n",
    "# Remova títulos duplicados entre as duas bases\n",
    "web_of_science_df = web_of_science_df[~web_of_science_df['Article Title'].isin(scopus_titles)]\n",
    "scopus_df = scopus_df[~scopus_df['Article Title'].isin(web_of_science_titles)]\n",
    "\n",
    "# Junte os dataframes\n",
    "resultado = pd.concat([web_of_science_df, scopus_df], ignore_index=True)\n",
    "\n",
    "# Salve o resultado em um novo arquivo CSV\n",
    "resultado.to_csv('Merge dos banco de dados excluindo duplicatas DOI e Títulos321.csv', index=False, encoding='utf-8-sig')\n"
   ]
  }
 ],
 "metadata": {
  "kernelspec": {
   "display_name": "Python 3",
   "language": "python",
   "name": "python3"
  },
  "language_info": {
   "codemirror_mode": {
    "name": "ipython",
    "version": 3
   },
   "file_extension": ".py",
   "mimetype": "text/x-python",
   "name": "python",
   "nbconvert_exporter": "python",
   "pygments_lexer": "ipython3",
   "version": "3.11.3"
  },
  "orig_nbformat": 4
 },
 "nbformat": 4,
 "nbformat_minor": 2
}
